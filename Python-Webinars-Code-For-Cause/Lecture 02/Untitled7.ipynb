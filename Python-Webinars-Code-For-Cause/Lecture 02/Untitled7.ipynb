{
 "cells": [
  {
   "cell_type": "code",
   "execution_count": 21,
   "metadata": {},
   "outputs": [],
   "source": [
    "class Human:\n",
    "    population = 0\n",
    "    \n",
    "    def __init__(self, name, age):\n",
    "        self.age = age\n",
    "        self.name = name\n",
    "        Human.population += 1\n",
    "    \n",
    "    @staticmethod \n",
    "    def fun():\n",
    "        print(Human.population)\n",
    "    \n",
    "    def getName(self):\n",
    "        print(self.name)\n",
    "    \n",
    "    @classmethod\n",
    "    def atomBomb(cls): # cls ki jagah, human will be passed\n",
    "        cls.population = 0\n",
    "    \n",
    "    @classmethod # decorators use closures internally\n",
    "    def fromString(cls, string, age):\n",
    "        return cls(string, age)"
   ]
  },
  {
   "cell_type": "code",
   "execution_count": 16,
   "metadata": {},
   "outputs": [],
   "source": [
    "kunal = Human(\"Kunal\", 30)\n",
    "rahul = Human(\"Rahul\", 48)"
   ]
  },
  {
   "cell_type": "code",
   "execution_count": 12,
   "metadata": {},
   "outputs": [],
   "source": [
    "Human.atomBomb()"
   ]
  },
  {
   "cell_type": "code",
   "execution_count": 17,
   "metadata": {},
   "outputs": [],
   "source": [
    "apoorv = Human.fromString(\"Apoorv\", 56)"
   ]
  },
  {
   "cell_type": "code",
   "execution_count": 18,
   "metadata": {},
   "outputs": [
    {
     "data": {
      "text/plain": [
       "3"
      ]
     },
     "execution_count": 18,
     "metadata": {},
     "output_type": "execute_result"
    }
   ],
   "source": [
    "apoorv.population"
   ]
  },
  {
   "cell_type": "code",
   "execution_count": 20,
   "metadata": {},
   "outputs": [
    {
     "data": {
      "text/plain": [
       "56"
      ]
     },
     "execution_count": 20,
     "metadata": {},
     "output_type": "execute_result"
    }
   ],
   "source": [
    "apoorv.age"
   ]
  },
  {
   "cell_type": "code",
   "execution_count": null,
   "metadata": {},
   "outputs": [],
   "source": []
  }
 ],
 "metadata": {
  "kernelspec": {
   "display_name": "Python 3",
   "language": "python",
   "name": "python3"
  },
  "language_info": {
   "codemirror_mode": {
    "name": "ipython",
    "version": 3
   },
   "file_extension": ".py",
   "mimetype": "text/x-python",
   "name": "python",
   "nbconvert_exporter": "python",
   "pygments_lexer": "ipython3",
   "version": "3.8.0"
  }
 },
 "nbformat": 4,
 "nbformat_minor": 4
}
