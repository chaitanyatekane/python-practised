{
 "cells": [
  {
   "cell_type": "code",
   "execution_count": 1,
   "metadata": {},
   "outputs": [],
   "source": [
    "# scoping"
   ]
  },
  {
   "cell_type": "code",
   "execution_count": 5,
   "metadata": {},
   "outputs": [],
   "source": [
    "def fun():\n",
    "    a = 10\n",
    "    print(a)"
   ]
  },
  {
   "cell_type": "code",
   "execution_count": 6,
   "metadata": {},
   "outputs": [
    {
     "name": "stdout",
     "output_type": "stream",
     "text": [
      "10\n"
     ]
    }
   ],
   "source": [
    "fun()"
   ]
  },
  {
   "cell_type": "code",
   "execution_count": 8,
   "metadata": {},
   "outputs": [],
   "source": [
    "# print(a) # cannot access from outside"
   ]
  },
  {
   "cell_type": "code",
   "execution_count": 13,
   "metadata": {},
   "outputs": [
    {
     "name": "stdout",
     "output_type": "stream",
     "text": [
      "80\n"
     ]
    }
   ],
   "source": [
    "a = 20 # this is global\n",
    "def fun():\n",
    "    a = 60 # this is local to function fun\n",
    "    a = a + 20\n",
    "    print(a)\n",
    "\n",
    "fun()"
   ]
  },
  {
   "cell_type": "code",
   "execution_count": 14,
   "metadata": {},
   "outputs": [],
   "source": [
    "# you can access but cannot change directly"
   ]
  },
  {
   "cell_type": "code",
   "execution_count": 15,
   "metadata": {},
   "outputs": [],
   "source": [
    "a = 10\n",
    "def fun():\n",
    "    print(a)"
   ]
  },
  {
   "cell_type": "code",
   "execution_count": 16,
   "metadata": {},
   "outputs": [
    {
     "name": "stdout",
     "output_type": "stream",
     "text": [
      "10\n"
     ]
    }
   ],
   "source": [
    "fun()"
   ]
  },
  {
   "cell_type": "code",
   "execution_count": 28,
   "metadata": {},
   "outputs": [],
   "source": [
    "x = 50\n",
    "\n",
    "def a():\n",
    "    x = 10 # this is local to a\n",
    "    # this x = 10 , this is enclosed for b()\n",
    "    def b():\n",
    "        x = 40 # this is locl to b\n",
    "        print(\"x in b() is\", x)\n",
    "        print(\"locals for b are: \", locals())\n",
    "    \n",
    "    print(\"x in a() is\", x)\n",
    "    print(\"locals for a are: \", locals())\n",
    "    return b()"
   ]
  },
  {
   "cell_type": "code",
   "execution_count": 29,
   "metadata": {},
   "outputs": [
    {
     "name": "stdout",
     "output_type": "stream",
     "text": [
      "x in a() is 50\n",
      "locals for a are:  {'b': <function a.<locals>.b at 0x10fbd7550>}\n",
      "x in b() is 50\n",
      "locals for b are:  {}\n"
     ]
    }
   ],
   "source": [
    "a()"
   ]
  },
  {
   "cell_type": "code",
   "execution_count": 38,
   "metadata": {},
   "outputs": [
    {
     "name": "stdout",
     "output_type": "stream",
     "text": [
      "256\n",
      "10\n",
      "45\n",
      "145\n",
      "x ki value in b after running c() 145\n"
     ]
    }
   ],
   "source": [
    "x = 256\n",
    "\n",
    "def a():\n",
    "    x = 10\n",
    "    \n",
    "    def b():\n",
    "        x = 45\n",
    "        \n",
    "        def c():\n",
    "            nonlocal x # explicitly bata raha hu\n",
    "            x += 100\n",
    "            print(x)\n",
    "        \n",
    "        print(x) # 45\n",
    "        c()\n",
    "        print(\"x ki value in b after running c()\",x) # 145\n",
    "        \n",
    "    print(x)\n",
    "    b()\n",
    "\n",
    "print(x)\n",
    "a()"
   ]
  },
  {
   "cell_type": "code",
   "execution_count": 39,
   "metadata": {},
   "outputs": [
    {
     "name": "stdout",
     "output_type": "stream",
     "text": [
      "256\n",
      "10\n",
      "45\n",
      "356\n",
      "x ki value in b after running c() 45\n"
     ]
    }
   ],
   "source": [
    "x = 256\n",
    "\n",
    "def a():\n",
    "    x = 10\n",
    "    \n",
    "    def b():\n",
    "        x = 45\n",
    "        \n",
    "        def c():\n",
    "            global x # explicitly bata raha hu\n",
    "            x += 100\n",
    "            print(x)\n",
    "        \n",
    "        print(x) # 45\n",
    "        c()\n",
    "        print(\"x ki value in b after running c()\",x) # 145\n",
    "        \n",
    "    print(x)\n",
    "    b()\n",
    "\n",
    "print(x)\n",
    "a()"
   ]
  },
  {
   "cell_type": "code",
   "execution_count": 40,
   "metadata": {},
   "outputs": [
    {
     "data": {
      "text/plain": [
       "356"
      ]
     },
     "execution_count": 40,
     "metadata": {},
     "output_type": "execute_result"
    }
   ],
   "source": [
    "x"
   ]
  },
  {
   "cell_type": "code",
   "execution_count": null,
   "metadata": {},
   "outputs": [],
   "source": []
  }
 ],
 "metadata": {
  "kernelspec": {
   "display_name": "Python 3",
   "language": "python",
   "name": "python3"
  },
  "language_info": {
   "codemirror_mode": {
    "name": "ipython",
    "version": 3
   },
   "file_extension": ".py",
   "mimetype": "text/x-python",
   "name": "python",
   "nbconvert_exporter": "python",
   "pygments_lexer": "ipython3",
   "version": "3.8.0"
  }
 },
 "nbformat": 4,
 "nbformat_minor": 4
}
