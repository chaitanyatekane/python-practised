{
 "cells": [
  {
   "cell_type": "code",
   "execution_count": 1,
   "metadata": {},
   "outputs": [],
   "source": [
    "# Guessing Game"
   ]
  },
  {
   "cell_type": "code",
   "execution_count": 26,
   "metadata": {},
   "outputs": [
    {
     "name": "stdin",
     "output_type": "stream",
     "text": [
      "Enter your name:  Kunal Kushwaha\n"
     ]
    },
    {
     "name": "stdout",
     "output_type": "stream",
     "text": [
      "Hello Kunal Kushwaha! Welcome to the guessing game!\n",
      "_ _ c _ o o k "
     ]
    },
    {
     "name": "stdin",
     "output_type": "stream",
     "text": [
      "\n",
      "Guess a character:  m\n"
     ]
    },
    {
     "name": "stdout",
     "output_type": "stream",
     "text": [
      "m _ c _ o o k "
     ]
    },
    {
     "name": "stdin",
     "output_type": "stream",
     "text": [
      "\n",
      "Guess a character:  f\n"
     ]
    },
    {
     "name": "stdout",
     "output_type": "stream",
     "text": [
      "\n",
      "Wrong Answer!!\n",
      "You have 9 chances left!\n",
      "m _ c _ o o k "
     ]
    },
    {
     "name": "stdin",
     "output_type": "stream",
     "text": [
      "\n",
      "Guess a character:  a\n"
     ]
    },
    {
     "name": "stdout",
     "output_type": "stream",
     "text": [
      "m a c _ o o k "
     ]
    },
    {
     "name": "stdin",
     "output_type": "stream",
     "text": [
      "\n",
      "Guess a character:  b\n"
     ]
    },
    {
     "name": "stdout",
     "output_type": "stream",
     "text": [
      "m a c b o o k \n",
      "You Won!\n",
      "Your score is 90\n"
     ]
    },
    {
     "name": "stdin",
     "output_type": "stream",
     "text": [
      "Do you want to play again? (Yes/No):  Yes\n"
     ]
    },
    {
     "name": "stdout",
     "output_type": "stream",
     "text": [
      "s u _ s e _ "
     ]
    },
    {
     "name": "stdin",
     "output_type": "stream",
     "text": [
      "\n",
      "Guess a character:  i\n"
     ]
    },
    {
     "name": "stdout",
     "output_type": "stream",
     "text": [
      "\n",
      "Wrong Answer!!\n",
      "You have 9 chances left!\n",
      "s u _ s e _ "
     ]
    },
    {
     "name": "stdin",
     "output_type": "stream",
     "text": [
      "\n",
      "Guess a character:  b\n"
     ]
    },
    {
     "name": "stdout",
     "output_type": "stream",
     "text": [
      "\n",
      "Wrong Answer!!\n",
      "You have 8 chances left!\n",
      "s u _ s e _ "
     ]
    },
    {
     "name": "stdin",
     "output_type": "stream",
     "text": [
      "\n",
      "Guess a character:  n\n"
     ]
    },
    {
     "name": "stdout",
     "output_type": "stream",
     "text": [
      "s u n s e _ "
     ]
    },
    {
     "name": "stdin",
     "output_type": "stream",
     "text": [
      "\n",
      "Guess a character:  t\n"
     ]
    },
    {
     "name": "stdout",
     "output_type": "stream",
     "text": [
      "s u n s e t \n",
      "You Won!\n",
      "Your score is 80\n"
     ]
    },
    {
     "name": "stdin",
     "output_type": "stream",
     "text": [
      "Do you want to play again? (Yes/No):  No\n"
     ]
    },
    {
     "name": "stdout",
     "output_type": "stream",
     "text": [
      "Thanks for playing!\n"
     ]
    }
   ],
   "source": [
    "import random\n",
    "\n",
    "name = input(\"Enter your name: \")\n",
    "print(f\"Hello {name}! Welcome to the guessing game!\")\n",
    "words = [\"guessing\",\"apple\",\"earphones\",\"macbook\",\"python\",\n",
    "        \"television\", \"sunset\",\"opensource\"]\n",
    "# get a random word from this list\n",
    "index = random.randint(0, len(words))\n",
    "word = words[index]\n",
    "indexes = random.sample(range(0, len(word)), 3)\n",
    "guesses = \"\" #characters that the user has guessed so far\n",
    "for i in indexes:\n",
    "    guesses += word[i]\n",
    "chances = 10\n",
    "play = \"Yes\"\n",
    "\n",
    "def playagain():\n",
    "    # this will help you understad scoping\n",
    "    global play\n",
    "    play = input(\"Do you want to play again? (Yes/No): \")\n",
    "    if play == \"Yes\":\n",
    "        global chances, word, guesses\n",
    "        chances = 10\n",
    "        index = random.randint(0, len(words))\n",
    "        word = words[index]\n",
    "        indexes = random.sample(range(0, len(word)), 3)\n",
    "        guesses = \"\" \n",
    "        for i in indexes:\n",
    "            guesses += word[i]\n",
    "\n",
    "# this play is global variable\n",
    "while play == \"Yes\":\n",
    "    while chances > 0:\n",
    "        won = True\n",
    "        for ch in word:\n",
    "            if ch in guesses: # the person has guessed\n",
    "                print(ch, end=\" \")\n",
    "            else:\n",
    "                print(\"_\", end=\" \")\n",
    "                won = False\n",
    "\n",
    "        if won:\n",
    "            print(\"\\nYou Won!\")\n",
    "            print(f\"Your score is {chances * 10}\")\n",
    "            playagain()\n",
    "            break\n",
    "\n",
    "        # take a guess from the user\n",
    "        guess = input(\"\\nGuess a character: \")\n",
    "        guesses += guess\n",
    "\n",
    "        if guess not in word:\n",
    "            chances -= 1\n",
    "            print(\"\\nWrong Answer!!\")\n",
    "            print(f\"You have {chances} chances left!\")\n",
    "\n",
    "            if chances == 0:\n",
    "                print(\"You Lose!!\")\n",
    "                playagain()\n",
    "                break\n",
    "\n",
    "print(\"Thanks for playing!\")"
   ]
  },
  {
   "cell_type": "code",
   "execution_count": null,
   "metadata": {},
   "outputs": [],
   "source": []
  },
  {
   "cell_type": "code",
   "execution_count": null,
   "metadata": {},
   "outputs": [],
   "source": []
  },
  {
   "cell_type": "code",
   "execution_count": null,
   "metadata": {},
   "outputs": [],
   "source": []
  }
 ],
 "metadata": {
  "kernelspec": {
   "display_name": "Python 3",
   "language": "python",
   "name": "python3"
  },
  "language_info": {
   "codemirror_mode": {
    "name": "ipython",
    "version": 3
   },
   "file_extension": ".py",
   "mimetype": "text/x-python",
   "name": "python",
   "nbconvert_exporter": "python",
   "pygments_lexer": "ipython3",
   "version": "3.8.0"
  }
 },
 "nbformat": 4,
 "nbformat_minor": 4
}
